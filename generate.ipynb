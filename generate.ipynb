{
 "cells": [
  {
   "cell_type": "code",
   "execution_count": 4,
   "metadata": {},
   "outputs": [],
   "source": [
    "import os \n",
    "import pathlib\n",
    "import torch"
   ]
  },
  {
   "cell_type": "code",
   "execution_count": 5,
   "metadata": {},
   "outputs": [],
   "source": [
    "# 全局变量使用\n",
    "# 加载模型文件夹的路径\n",
    "mods_path = 'mods'\n",
    "# 模型文件夹列表\n",
    "model_folder_list = []"
   ]
  },
  {
   "cell_type": "code",
   "execution_count": 6,
   "metadata": {},
   "outputs": [],
   "source": [
    "def get_model_list():\n",
    "    mod_folder_list = os.listdir(mods_path)\n",
    "    for folder in mod_folder_list:\n",
    "        mod_folder_dir = pathlib.Path(os.path.join(mods_path, folder))\n",
    "        if list(mod_folder_dir.glob(\"*.json\")) and list(mod_folder_dir.glob(\"*.pth\")):\n",
    "            model_folder_list.append(folder)\n",
    "# 读取模型文件夹\n",
    "get_model_list()"
   ]
  },
  {
   "cell_type": "code",
   "execution_count": 7,
   "metadata": {},
   "outputs": [
    {
     "data": {
      "text/plain": [
       "['5toubun', 'hamidashi']"
      ]
     },
     "execution_count": 7,
     "metadata": {},
     "output_type": "execute_result"
    }
   ],
   "source": [
    "model_folder_list"
   ]
  },
  {
   "cell_type": "code",
   "execution_count": 14,
   "metadata": {},
   "outputs": [],
   "source": [
    "import subprocess\n",
    "# Name: zh-CN-XiaoxiaoNeural Gender: Female\n",
    "# Name: zh-CN-XiaoyiNeural Gender: Female\n",
    "# Name: zh-CN-YunjianNeural Gender: Male\n",
    "# Name: zh-CN-YunxiNeural Gender: Male\n",
    "# Name: zh-CN-YunxiaNeural Gender: Male\n",
    "# Name: zh-CN-YunyangNeural  Gender: Male\n",
    "# Name: zh-CN-liaoning-XiaobeiNeural Gender: Female\n",
    "#  Name: zh-CN-shaanxi-XiaoniNeural Gender: Female \n",
    "# Name: zh-HK-HiuGaaiNeural Gender: Female \n",
    "# Name: zh-HK-HiuMaanNeural Gender: Female \n",
    "# Name: zh-HK-WanLungNeural Gender: Male \n",
    "# Name: zh-TW-HsiaoChenNeural Gender: Female \n",
    "# Name: zh-TW-HsiaoYuNeural Gender: Female \n",
    "# Name: zh-TW-YunJheNeural Gender: Male\n",
    "clean_text='高考考场上，监考老师塞给我一张纸条。我偷偷打开，就见上面写着一句话：「抢走你前桌的试卷，并向她表白。否则，十秒后她将死亡！」'\n",
    "# voice 文字对不上，或者语种对不上是没有生成结果的\n",
    "# voice='zh-CN-XiaoxiaoNeural'\n",
    "# proxies={\n",
    "#     'http_proxy': 'http://127.0.0.1:7890',\n",
    "#     'https_proxy': 'http://127.0.0.1:7890'\n",
    "# }\n",
    "# p = subprocess.Popen([\"edge-tts\",\n",
    "# \t\t\t\t\t\t\"--text\", clean_text,\n",
    "# \t\t\t\t\t\t\"--write-media\", \"out.wav\",\n",
    "# \t\t\t\t\t\t\"--voice\", voice,\n",
    "#                         # \"--rate=\"+'0.0'\n",
    "#                         ],\n",
    "# \t\t\t\t\t\t# shell=True,\n",
    "# \t\t\t\t\t\t# env=proxies,\n",
    "# \t\t\t\t\t\tstdout=subprocess.PIPE,\n",
    "# \t\t\t\t\t\tstdin=subprocess.PIPE)\n",
    "p.wait()\n",
    "def tts_convert(text:str,path:str,voice:str):\n",
    "    p = subprocess.Popen([\"edge-tts\",\n",
    "\t\t\t\t\t\t\"--text\", clean_text,\n",
    "\t\t\t\t\t\t\"--write-media\", path,\n",
    "\t\t\t\t\t\t\"--voice\", voice,\n",
    "                        # \"--rate=\"+'0.0'\n",
    "                        ],\n",
    "\t\t\t\t\t\t# shell=True,\n",
    "\t\t\t\t\t\t# env=proxies,\n",
    "\t\t\t\t\t\tstdout=subprocess.PIPE,\n",
    "\t\t\t\t\t\tstdin=subprocess.PIPE)\n",
    "    p.wait()\n",
    "zh_list =['zh-CN-XiaoxiaoNeural','zh-CN-XiaoyiNeural','zh-CN-YunjianNeural','zh-CN-liaoning-XiaobeiNeural','zh-CN-shaanxi-XiaoniNeural',\n",
    "          'zh-HK-HiuGaaiNeural','zh-HK-HiuMaanNeural',\n",
    "          'zh-TW-HsiaoChenNeural','zh-TW-HsiaoYuNeural','zh-TW-YunJheNeural',\n",
    "          #  男性音色\n",
    "          'zh-CN-YunxiNeural', 'zh-CN-YunxiaNeural','zh-CN-YunyangNeural','zh-HK-WanLungNeural'\n",
    "          ]\n",
    "for voice in zh_list:\n",
    "    tts_convert(clean_text,voice+'.wav',voice)"
   ]
  }
 ],
 "metadata": {
  "kernelspec": {
   "display_name": "svc",
   "language": "python",
   "name": "python3"
  },
  "language_info": {
   "codemirror_mode": {
    "name": "ipython",
    "version": 3
   },
   "file_extension": ".py",
   "mimetype": "text/x-python",
   "name": "python",
   "nbconvert_exporter": "python",
   "pygments_lexer": "ipython3",
   "version": "3.9.16"
  },
  "orig_nbformat": 4
 },
 "nbformat": 4,
 "nbformat_minor": 2
}
